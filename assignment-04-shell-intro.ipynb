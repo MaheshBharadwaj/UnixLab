{
 "cells": [
  {
   "cell_type": "markdown",
   "metadata": {
    "ein.tags": "worksheet-0",
    "slideshow": {
     "slide_type": "-"
    }
   },
   "source": [
    "# Exercise 1\n",
    "1.  Launch a terminal.\n",
    "2.  Use the appropriate command to determine your login shell.\n",
    "3.  Use the `/etc/passwd` file to verify the result of step 2.\n",
    "4.  Use the appropriate command to determine your current shell. Is it\n",
    "    the same as your login shell?\n",
    "5.  Create a subshell shell that is not the same shell as your\n",
    "    login shell. For example, if your login shell is Bash, create a\n",
    "    `ksh` or C shell.\n",
    "6.  Check the Current shell again. Does it match with your login shell?\n",
    "7.  Create another shell which is the same type as your login shell.\n",
    "8.  Check the current shell again. Does it match with previous one?\n",
    "9.  Exit from the subshell and move to your login shell.\n",
    "10. Check the current shell again. Is it the same as the login shell?\n",
    "11. Quit the terminal.\n",
    "\n"
   ]
  },
  {
   "cell_type": "code",
   "execution_count": 1,
   "metadata": {},
   "outputs": [
    {
     "name": "stdout",
     "output_type": "stream",
     "text": [
      "/bin/bash\n"
     ]
    }
   ],
   "source": [
    "echo $SHELL"
   ]
  },
  {
   "cell_type": "code",
   "execution_count": 2,
   "metadata": {},
   "outputs": [
    {
     "name": "stdout",
     "output_type": "stream",
     "text": [
      "/bin/bash\n"
     ]
    }
   ],
   "source": [
    "echo $0"
   ]
  },
  {
   "cell_type": "code",
   "execution_count": 3,
   "metadata": {},
   "outputs": [
    {
     "name": "stdout",
     "output_type": "stream",
     "text": [
      "root:x:0:0:root:/root:/bin/bash\n",
      "daemon:x:1:1:daemon:/usr/sbin:/usr/sbin/nologin\n",
      "bin:x:2:2:bin:/bin:/usr/sbin/nologin\n",
      "sys:x:3:3:sys:/dev:/usr/sbin/nologin\n",
      "sync:x:4:65534:sync:/bin:/bin/sync\n",
      "games:x:5:60:games:/usr/games:/usr/sbin/nologin\n",
      "man:x:6:12:man:/var/cache/man:/usr/sbin/nologin\n",
      "lp:x:7:7:lp:/var/spool/lpd:/usr/sbin/nologin\n",
      "mail:x:8:8:mail:/var/mail:/usr/sbin/nologin\n",
      "news:x:9:9:news:/var/spool/news:/usr/sbin/nologin\n",
      "uucp:x:10:10:uucp:/var/spool/uucp:/usr/sbin/nologin\n",
      "proxy:x:13:13:proxy:/bin:/usr/sbin/nologin\n",
      "www-data:x:33:33:www-data:/var/www:/usr/sbin/nologin\n",
      "backup:x:34:34:backup:/var/backups:/usr/sbin/nologin\n",
      "list:x:38:38:Mailing List Manager:/var/list:/usr/sbin/nologin\n",
      "irc:x:39:39:ircd:/var/run/ircd:/usr/sbin/nologin\n",
      "gnats:x:41:41:Gnats Bug-Reporting System (admin):/var/lib/gnats:/usr/sbin/nologin\n",
      "nobody:x:65534:65534:nobody:/nonexistent:/usr/sbin/nologin\n",
      "systemd-network:x:100:102:systemd Network Management,,,:/run/systemd/netif:/usr/sbin/nologin\n",
      "systemd-resolve:x:101:103:systemd Resolver,,,:/run/systemd/resolve:/usr/sbin/nologin\n",
      "syslog:x:102:106::/home/syslog:/usr/sbin/nologin\n",
      "messagebus:x:103:107::/nonexistent:/usr/sbin/nologin\n",
      "_apt:x:104:65534::/nonexistent:/usr/sbin/nologin\n",
      "lxd:x:105:65534::/var/lib/lxd/:/bin/false\n",
      "uuidd:x:106:110::/run/uuidd:/usr/sbin/nologin\n",
      "dnsmasq:x:107:65534:dnsmasq,,,:/var/lib/misc:/usr/sbin/nologin\n",
      "landscape:x:108:112::/var/lib/landscape:/usr/sbin/nologin\n",
      "sshd:x:109:65534::/run/sshd:/usr/sbin/nologin\n",
      "pollinate:x:110:1::/var/cache/pollinate:/bin/false\n",
      "kiru:x:1000:1000:,,,:/home/kiru:/bin/bash\n"
     ]
    }
   ],
   "source": [
    "cat /etc/passwd"
   ]
  },
  {
   "cell_type": "code",
   "execution_count": 1,
   "metadata": {},
   "outputs": [
    {
     "name": "stdout",
     "output_type": "stream",
     "text": [
      "/mnt/c/Users/Kiruthika/Downloads\n"
     ]
    }
   ],
   "source": [
    "pwd"
   ]
  },
  {
   "cell_type": "markdown",
   "metadata": {
    "ein.tags": "worksheet-0",
    "slideshow": {
     "slide_type": "-"
    }
   },
   "source": [
    "# Exercise 2\n",
    "1.  Launch a terminal.\n",
    "2.  Use the `who` command and redirect the result to a file called\n",
    "    `file1`. Use the `more` command to see the contents of `file1`.\n",
    "3.  Use the `date` and `who` commands in sequence (in one line) so that\n",
    "    the output of `date` will display on the screen and the output of\n",
    "    `who` will be redirected to a file called `file2`. Use the `more`\n",
    "    command to check the contents of `file2`. It should be the same as\n",
    "    `file1` unless someone logged in or logged off between the\n",
    "    `who` commands.\n",
    "4.  Set vi to be your command—line editor.\n",
    "5.  Use your command-line editor to recall the line you typed in step 3.\n",
    "    Edit the line so that the output of both commands (`date` and `who`)\n",
    "    are redirected to a file called `file3`. Use the more command to\n",
    "    display the result.\n",
    "6.  Use the command-line editor to recall the line typed in step 3. Edit\n",
    "    the line so that the output of the first command (`date`) is\n",
    "    redirected to a file called `file4`, while the result of the `who`\n",
    "    command displays on the monitor without changing the relative\n",
    "    positions of the `date` and `who` commands. Use the more command to\n",
    "    verify the result.\n",
    "7.  Make a duplicate or `file3` and call it `file3.bak`\n",
    "8.  Use the command-line editor to recall the line created at step 5.\n",
    "    Edit the line so that the word \\`\\`date'' will be misspelled\n",
    "    as \\`\\`bate''. Execute the edited command and append the result to\n",
    "    `file3`. Use `more` to compare `file3` and `file3.bak`\n",
    "9.  Using command-line editing, recall the line created in step 8. Edit\n",
    "    it so that the errors also go to `file3` without replacing the\n",
    "    files contents. Check the contents of `file3` for verification.\n",
    "10. Using command-line editing, recall the line created in step 9. Edit\n",
    "    it so that the output goes to `file4` and errors go to `file5`.\n",
    "11. Quit the terminal.\n",
    "\n"
   ]
  },
  {
   "cell_type": "code",
   "execution_count": 2,
   "metadata": {},
   "outputs": [],
   "source": [
    "cd ../Documents/Lab_Assignments/UNIX/A4"
   ]
  },
  {
   "cell_type": "code",
   "execution_count": 8,
   "metadata": {},
   "outputs": [],
   "source": [
    "whoami>file1"
   ]
  },
  {
   "cell_type": "code",
   "execution_count": 9,
   "metadata": {},
   "outputs": [
    {
     "name": "stdout",
     "output_type": "stream",
     "text": [
      "kiru\n"
     ]
    }
   ],
   "source": [
    "more file1"
   ]
  },
  {
   "cell_type": "code",
   "execution_count": 10,
   "metadata": {},
   "outputs": [
    {
     "name": "stdout",
     "output_type": "stream",
     "text": [
      "Sun Sep 15 16:38:38 DST 2019\n"
     ]
    }
   ],
   "source": [
    "date;whoami>file2"
   ]
  },
  {
   "cell_type": "code",
   "execution_count": 11,
   "metadata": {},
   "outputs": [
    {
     "name": "stdout",
     "output_type": "stream",
     "text": [
      "kiru\n"
     ]
    }
   ],
   "source": [
    "more file2"
   ]
  },
  {
   "cell_type": "code",
   "execution_count": 12,
   "metadata": {},
   "outputs": [],
   "source": [
    "(date;whoami)>file3"
   ]
  },
  {
   "cell_type": "code",
   "execution_count": 13,
   "metadata": {},
   "outputs": [
    {
     "name": "stdout",
     "output_type": "stream",
     "text": [
      "Sun Sep 15 16:40:09 DST 2019\n",
      "kiru\n"
     ]
    }
   ],
   "source": [
    "more file3"
   ]
  },
  {
   "cell_type": "code",
   "execution_count": 14,
   "metadata": {},
   "outputs": [
    {
     "name": "stdout",
     "output_type": "stream",
     "text": [
      "kiru\n"
     ]
    }
   ],
   "source": [
    "date>file4;whoami"
   ]
  },
  {
   "cell_type": "code",
   "execution_count": 15,
   "metadata": {},
   "outputs": [
    {
     "name": "stdout",
     "output_type": "stream",
     "text": [
      "Sun Sep 15 16:42:56 DST 2019\n"
     ]
    }
   ],
   "source": [
    "more file4"
   ]
  },
  {
   "cell_type": "code",
   "execution_count": 16,
   "metadata": {},
   "outputs": [],
   "source": [
    "cp file3 file3.bak"
   ]
  },
  {
   "cell_type": "code",
   "execution_count": 18,
   "metadata": {},
   "outputs": [
    {
     "name": "stdout",
     "output_type": "stream",
     "text": [
      "\n",
      "Command 'bate' not found, did you mean:\n",
      "\n",
      "  command 'late' from deb late\n",
      "  command 'date' from deb coreutils\n",
      "  command 'kate' from deb kate\n",
      "  command 'bat' from deb bacula-console-qt\n",
      "  command 'bats' from deb bats\n",
      "\n",
      "Try: sudo apt install <deb name>\n",
      "\n"
     ]
    }
   ],
   "source": [
    "(bate;whoami)>file3"
   ]
  },
  {
   "cell_type": "code",
   "execution_count": 19,
   "metadata": {},
   "outputs": [
    {
     "name": "stdout",
     "output_type": "stream",
     "text": [
      "kiru\n"
     ]
    }
   ],
   "source": [
    "more file3"
   ]
  },
  {
   "cell_type": "code",
   "execution_count": 20,
   "metadata": {},
   "outputs": [],
   "source": [
    "(bate;whoami)&>>file3"
   ]
  },
  {
   "cell_type": "code",
   "execution_count": 21,
   "metadata": {},
   "outputs": [
    {
     "name": "stdout",
     "output_type": "stream",
     "text": [
      "kiru\n",
      "\n",
      "Command 'bate' not found, did you mean:\n",
      "\n",
      "  command 'kate' from deb kate\n",
      "  command 'bat' from deb bacula-console-qt\n",
      "  command 'bats' from deb bats\n",
      "  command 'date' from deb coreutils\n",
      "  command 'late' from deb late\n",
      "\n",
      "Try: sudo apt install <deb name>\n",
      "\n",
      "kiru\n"
     ]
    }
   ],
   "source": [
    "more file3"
   ]
  },
  {
   "cell_type": "code",
   "execution_count": 22,
   "metadata": {},
   "outputs": [],
   "source": [
    "(bate;whoami) 1>file4 2>file5"
   ]
  },
  {
   "cell_type": "code",
   "execution_count": 23,
   "metadata": {},
   "outputs": [
    {
     "name": "stdout",
     "output_type": "stream",
     "text": [
      "kiru\n"
     ]
    }
   ],
   "source": [
    "more file4"
   ]
  },
  {
   "cell_type": "code",
   "execution_count": 24,
   "metadata": {},
   "outputs": [
    {
     "name": "stdout",
     "output_type": "stream",
     "text": [
      "\n",
      "Command 'bate' not found, did you mean:\n",
      "\n",
      "  command 'kate' from deb kate\n",
      "  command 'date' from deb coreutils\n",
      "  command 'bats' from deb bats\n",
      "  command 'late' from deb late\n",
      "  command 'bat' from deb bacula-console-qt\n",
      "\n",
      "Try: sudo apt install <deb name>\n",
      "\n"
     ]
    }
   ],
   "source": [
    "more file5"
   ]
  },
  {
   "cell_type": "markdown",
   "metadata": {
    "ein.tags": "worksheet-0",
    "slideshow": {
     "slide_type": "-"
    }
   },
   "source": [
    "# Exercise 3\n",
    "1.  Launch a terminal.\n",
    "2.  Create a subshell.\n",
    "3.  Set your command-line editor to `vi`.\n",
    "4.  Create a long list of the current directory and pipe the output to\n",
    "    the `pr`.\n",
    "5.  Edit the line in step 4 so that the result goes to the `pr` and at\n",
    "    the same time is saved as a file called `file1` with no output on\n",
    "    the monitor (use `tee`, pipe, and redirection).\n",
    "6.  Edit the line in step 5 so that the result of `ls -l` command be\n",
    "    sent to two files `file2` and `file3`.\n",
    "7.  Set the `noclobber` option.\n",
    "8.  Repeat the command in step 5. Do you get any error message? If so,\n",
    "    write down the error message.\n",
    "9.  Edit the command line in step 8 to force clobbering of `file1`.\n",
    "10. Unset the noclobber.\n",
    "11. Use the `ls -l` command and try to send the result to two files,\n",
    "    `file3` and `file4`, using the pipe and the `cp` command. What\n",
    "    message do you get? Write it down. What are the contents `file3` and\n",
    "    `file4`. Why can't `cp` accept its input from a pipe?\n",
    "12. Repeat the step 11 but use the `tee` command to solve the problem.\n",
    "13. Quit the terminal.\n",
    "\n"
   ]
  },
  {
   "cell_type": "code",
   "execution_count": 25,
   "metadata": {},
   "outputs": [
    {
     "name": "stdout",
     "output_type": "stream",
     "text": [
      "\n",
      "\n",
      "2019-09-15 16:49                                                  Page 1\n",
      "\n",
      "\n",
      "total 0\n",
      "-rwxrwxrwx 1 kiru kiru   5 Sep 15 16:38 file1\n",
      "-rwxrwxrwx 1 kiru kiru   5 Sep 15 16:38 file2\n",
      "-rwxrwxrwx 1 kiru kiru 259 Sep 15 16:46 file3\n",
      "-rwxrwxrwx 1 kiru kiru  34 Sep 15 16:43 file3.bak\n",
      "-rwxrwxrwx 1 kiru kiru   5 Sep 15 16:47 file4\n",
      "-rwxrwxrwx 1 kiru kiru 249 Sep 15 16:47 file5\n",
      "\n",
      "\n",
      "\n",
      "\n",
      "\n",
      "\n",
      "\n",
      "\n",
      "\n",
      "\n",
      "\n",
      "\n",
      "\n",
      "\n",
      "\n",
      "\n",
      "\n",
      "\n",
      "\n",
      "\n",
      "\n",
      "\n",
      "\n",
      "\n",
      "\n",
      "\n",
      "\n",
      "\n",
      "\n",
      "\n",
      "\n",
      "\n",
      "\n",
      "\n",
      "\n",
      "\n",
      "\n",
      "\n",
      "\n",
      "\n",
      "\n",
      "\n",
      "\n",
      "\n",
      "\n",
      "\n",
      "\n",
      "\n",
      "\n",
      "\n",
      "\n",
      "\n",
      "\n",
      "\n"
     ]
    }
   ],
   "source": [
    "ls -l | pr"
   ]
  },
  {
   "cell_type": "code",
   "execution_count": 41,
   "metadata": {},
   "outputs": [],
   "source": [
    "ls -l > file1 | pr"
   ]
  },
  {
   "cell_type": "code",
   "execution_count": 42,
   "metadata": {},
   "outputs": [
    {
     "name": "stdout",
     "output_type": "stream",
     "text": [
      "total 0\n",
      "-rwxrwxrwx 1 kiru kiru   0 Sep 15 17:33 file1\n",
      "-rwxrwxrwx 1 kiru kiru   5 Sep 15 16:38 file2\n",
      "-rwxrwxrwx 1 kiru kiru 259 Sep 15 16:46 file3\n",
      "-rwxrwxrwx 1 kiru kiru  34 Sep 15 16:43 file3.bak\n",
      "-rwxrwxrwx 1 kiru kiru   5 Sep 15 16:47 file4\n",
      "-rwxrwxrwx 1 kiru kiru 249 Sep 15 16:47 file5\n",
      "-rwxrwxrwx 1 kiru kiru   0 Sep 15 17:33 pr\n"
     ]
    }
   ],
   "source": [
    "more pr"
   ]
  },
  {
   "cell_type": "code",
   "execution_count": 43,
   "metadata": {},
   "outputs": [
    {
     "name": "stdout",
     "output_type": "stream",
     "text": [
      "total 0\n",
      "-rwxrwxrwx 1 kiru kiru   0 Sep 15 17:33 file1\n",
      "-rwxrwxrwx 1 kiru kiru   5 Sep 15 16:38 file2\n",
      "-rwxrwxrwx 1 kiru kiru 259 Sep 15 16:46 file3\n",
      "-rwxrwxrwx 1 kiru kiru  34 Sep 15 16:43 file3.bak\n",
      "-rwxrwxrwx 1 kiru kiru   5 Sep 15 16:47 file4\n",
      "-rwxrwxrwx 1 kiru kiru 249 Sep 15 16:47 file5\n",
      "-rwxrwxrwx 1 kiru kiru 331 Sep 15 17:33 pr\n"
     ]
    }
   ],
   "source": [
    "more file1"
   ]
  },
  {
   "cell_type": "code",
   "execution_count": 44,
   "metadata": {},
   "outputs": [],
   "source": [
    "set -o noclobber"
   ]
  },
  {
   "cell_type": "code",
   "execution_count": 45,
   "metadata": {},
   "outputs": [
    {
     "name": "stdout",
     "output_type": "stream",
     "text": [
      "bash: file1: cannot overwrite existing file\n"
     ]
    }
   ],
   "source": [
    "ls -l > file1 | pr"
   ]
  },
  {
   "cell_type": "code",
   "execution_count": 46,
   "metadata": {},
   "outputs": [],
   "source": [
    "ls -l >| file1 | pr"
   ]
  },
  {
   "cell_type": "code",
   "execution_count": 47,
   "metadata": {},
   "outputs": [
    {
     "name": "stdout",
     "output_type": "stream",
     "text": [
      "total 0\n",
      "-rwxrwxrwx 1 kiru kiru   0 Sep 15 17:34 file1\n",
      "-rwxrwxrwx 1 kiru kiru   5 Sep 15 16:38 file2\n",
      "-rwxrwxrwx 1 kiru kiru 259 Sep 15 16:46 file3\n",
      "-rwxrwxrwx 1 kiru kiru  34 Sep 15 16:43 file3.bak\n",
      "-rwxrwxrwx 1 kiru kiru   5 Sep 15 16:47 file4\n",
      "-rwxrwxrwx 1 kiru kiru 249 Sep 15 16:47 file5\n",
      "-rwxrwxrwx 1 kiru kiru 331 Sep 15 17:33 pr\n"
     ]
    }
   ],
   "source": [
    "more file1"
   ]
  },
  {
   "cell_type": "code",
   "execution_count": 48,
   "metadata": {},
   "outputs": [
    {
     "name": "stdout",
     "output_type": "stream",
     "text": [
      "total 0\n",
      "-rwxrwxrwx 1 kiru kiru   0 Sep 15 17:33 file1\n",
      "-rwxrwxrwx 1 kiru kiru   5 Sep 15 16:38 file2\n",
      "-rwxrwxrwx 1 kiru kiru 259 Sep 15 16:46 file3\n",
      "-rwxrwxrwx 1 kiru kiru  34 Sep 15 16:43 file3.bak\n",
      "-rwxrwxrwx 1 kiru kiru   5 Sep 15 16:47 file4\n",
      "-rwxrwxrwx 1 kiru kiru 249 Sep 15 16:47 file5\n",
      "-rwxrwxrwx 1 kiru kiru   0 Sep 15 17:33 pr\n"
     ]
    }
   ],
   "source": [
    "more pr"
   ]
  },
  {
   "cell_type": "code",
   "execution_count": 51,
   "metadata": {},
   "outputs": [],
   "source": [
    "set +o noclobber"
   ]
  },
  {
   "cell_type": "code",
   "execution_count": 52,
   "metadata": {},
   "outputs": [
    {
     "name": "stdout",
     "output_type": "stream",
     "text": [
      "cp: missing destination file operand after 'file4'\n",
      "Try 'cp --help' for more information.\n"
     ]
    },
    {
     "ename": "",
     "evalue": "1",
     "output_type": "error",
     "traceback": []
    }
   ],
   "source": [
    "ls -l > file3 | cp file4"
   ]
  },
  {
   "cell_type": "code",
   "execution_count": 64,
   "metadata": {},
   "outputs": [],
   "source": [
    "ls -l | tee file3 > file4"
   ]
  },
  {
   "cell_type": "code",
   "execution_count": 65,
   "metadata": {},
   "outputs": [
    {
     "name": "stdout",
     "output_type": "stream",
     "text": [
      "total 0\n",
      "-rwxrwxrwx 1 kiru kiru 331 Sep 15 17:34 file1\n",
      "-rwxrwxrwx 1 kiru kiru   5 Sep 15 16:38 file2\n",
      "-rwxrwxrwx 1 kiru kiru   0 Sep 15 17:44 file3\n",
      "-rwxrwxrwx 1 kiru kiru  34 Sep 15 16:43 file3.bak\n",
      "-rwxrwxrwx 1 kiru kiru   0 Sep 15 17:44 file4\n",
      "-rwxrwxrwx 1 kiru kiru 249 Sep 15 16:47 file5\n",
      "-rwxrwxrwx 1 kiru kiru 331 Sep 15 17:33 pr\n"
     ]
    }
   ],
   "source": [
    "more file3"
   ]
  },
  {
   "cell_type": "code",
   "execution_count": 66,
   "metadata": {},
   "outputs": [
    {
     "name": "stdout",
     "output_type": "stream",
     "text": [
      "total 0\n",
      "-rwxrwxrwx 1 kiru kiru 331 Sep 15 17:34 file1\n",
      "-rwxrwxrwx 1 kiru kiru   5 Sep 15 16:38 file2\n",
      "-rwxrwxrwx 1 kiru kiru   0 Sep 15 17:44 file3\n",
      "-rwxrwxrwx 1 kiru kiru  34 Sep 15 16:43 file3.bak\n",
      "-rwxrwxrwx 1 kiru kiru   0 Sep 15 17:44 file4\n",
      "-rwxrwxrwx 1 kiru kiru 249 Sep 15 16:47 file5\n",
      "-rwxrwxrwx 1 kiru kiru 331 Sep 15 17:33 pr\n"
     ]
    }
   ],
   "source": [
    "more file4"
   ]
  },
  {
   "cell_type": "markdown",
   "metadata": {
    "ein.tags": "worksheet-0",
    "slideshow": {
     "slide_type": "-"
    }
   },
   "source": [
    "# Exercise 4\n",
    "1.  Launch a terminal.\n",
    "2.  Without using an editor, create a one-line file, called `file1`,\n",
    "    using the `echo` command (use output redirection). This is one of\n",
    "    the ways we can create a short file quickly.\n",
    "3.  Check the content of `file1` using `more` command.\n",
    "4.  Now, without using an editor or create two-line file `file2`, using\n",
    "    `echo` command. Use double quotes for the argument of the\n",
    "    `echo` command. Put the opening quote in the first line and the\n",
    "    closing quotes in the second line, but do not close it until the end\n",
    "    of the second line. In your own words, explain what you just did and\n",
    "    why it works.\n",
    "5.  Check the contents of `file2 using the =more` command.\n",
    "6.  Store \"UNIX vs. Others\" in a variable called `facts`.\n",
    "7.  Now use the following command:\n",
    "\n",
    "    ``` {.example}\n",
    "    echo \"This is a fact. $facts in our life.\n",
    "    ```\n",
    "\n",
    "    What is printed and why?\n",
    "8.  Now use the following command:\n",
    "\n",
    "    ``` {.example}\n",
    "    echo \"This is a fact.  '$facts' in our life\"   \n",
    "    ```\n",
    "\n",
    "    What is printed and why?\n",
    "9.  Now use the following command:\n",
    "\n",
    "    ``` {.example}\n",
    "    echo \"This is a fact \\$facts in our life\"   \n",
    "    ```\n",
    "\n",
    "    What would be printed and why?\n",
    "10. Try to use a command to print the following message (including\n",
    "    the quotes) using the value of the variable facts:\n",
    "\n",
    "    ``` {.example}\n",
    "    \"This is a fact \"UNIX vs. Others\" in our life\"\n",
    "    ```\n",
    "\n",
    "11. Quit the terminal.\n",
    "\n"
   ]
  },
  {
   "cell_type": "code",
   "execution_count": 68,
   "metadata": {},
   "outputs": [],
   "source": [
    "echo hello > file1"
   ]
  },
  {
   "cell_type": "code",
   "execution_count": 69,
   "metadata": {},
   "outputs": [
    {
     "name": "stdout",
     "output_type": "stream",
     "text": [
      "hello\n"
     ]
    }
   ],
   "source": [
    "more file1"
   ]
  },
  {
   "cell_type": "code",
   "execution_count": 73,
   "metadata": {},
   "outputs": [
    {
     "name": "stdout",
     "output_type": "stream",
     "text": [
      "Hello\n",
      " World\n"
     ]
    }
   ],
   "source": [
    "more file2"
   ]
  },
  {
   "cell_type": "code",
   "execution_count": 76,
   "metadata": {},
   "outputs": [],
   "source": [
    "facts=\"UNIX vs Others\""
   ]
  },
  {
   "cell_type": "code",
   "execution_count": 77,
   "metadata": {},
   "outputs": [
    {
     "name": "stdout",
     "output_type": "stream",
     "text": [
      "This is a fact. UNIX vs Others in our life.\n"
     ]
    }
   ],
   "source": [
    "echo \"This is a fact. $facts in our life.\""
   ]
  },
  {
   "cell_type": "code",
   "execution_count": 78,
   "metadata": {},
   "outputs": [
    {
     "name": "stdout",
     "output_type": "stream",
     "text": [
      "This is a fact.  'UNIX vs Others' in our life\n"
     ]
    }
   ],
   "source": [
    "echo \"This is a fact.  '$facts' in our life\" "
   ]
  },
  {
   "cell_type": "code",
   "execution_count": 79,
   "metadata": {},
   "outputs": [
    {
     "name": "stdout",
     "output_type": "stream",
     "text": [
      "This is a fact $facts in our life\n"
     ]
    }
   ],
   "source": [
    "echo \"This is a fact \\$facts in our life\"  "
   ]
  },
  {
   "cell_type": "code",
   "execution_count": 80,
   "metadata": {},
   "outputs": [
    {
     "name": "stdout",
     "output_type": "stream",
     "text": [
      "\"This is a fact \"UNIX vs Others\" in our life\"\n"
     ]
    }
   ],
   "source": [
    "echo \"\\\"This is a fact \\\"$facts\\\" in our life\\\"\"  "
   ]
  },
  {
   "cell_type": "markdown",
   "metadata": {
    "ein.tags": "worksheet-0",
    "slideshow": {
     "slide_type": "-"
    }
   },
   "source": [
    "# Exercise 5\n",
    "1.  Launch a terminal.\n",
    "2.  Store the word \\~\"PARENT\"\\~ in a variable called `first`.\n",
    "3.  Print the value of the variable `first` (using `echo` command).\n",
    "4.  Create a subshell shell using the same type of shell as your\n",
    "    login shell.\n",
    "5.  Print the value of the variable `first` in this subshell. What was\n",
    "    printed? If \\~\"PARENT\"\\~ was not printed, explain why. Hint: What\n",
    "    did the parent export to the subshell when the subshell was created?\n",
    "6.  Store the word \\~\"SUBSHELL\"\\~ in a variable called `second`.\n",
    "7.  Print the value of the variable `second`.\n",
    "8.  Exit from the subshell shell and move to your login shell.\n",
    "9.  Print the value of `first`. What was printed? How do you explain\n",
    "    this result?\n",
    "10. Print the value of `second`. What was printed? How do you explain\n",
    "    this result?\n",
    "11. Quit the terminal.\n",
    "\n"
   ]
  },
  {
   "cell_type": "code",
   "execution_count": 81,
   "metadata": {},
   "outputs": [],
   "source": [
    "first=PARENT"
   ]
  },
  {
   "cell_type": "code",
   "execution_count": 82,
   "metadata": {},
   "outputs": [
    {
     "name": "stdout",
     "output_type": "stream",
     "text": [
      "PARENT\n"
     ]
    }
   ],
   "source": [
    "echo $first"
   ]
  },
  {
   "cell_type": "markdown",
   "metadata": {
    "ein.tags": "worksheet-0",
    "slideshow": {
     "slide_type": "-"
    }
   },
   "source": [
    "# Exercise 6\n",
    "\n",
    "1.  Launch a terminal.\n",
    "2.  Display the contents of the system startup file (the file name is\n",
    "    different in different shells). Try to change some entries in\n",
    "    this file.\n",
    "3.  Display the contents of your personal startup life (the file same is\n",
    "    different is different shells}.\n",
    "4.  Try to change some entries in this file.\n",
    "5.  Display the contents of system-wide shutdown files (if there\n",
    "    is one).\n",
    "6.  Display the contents of your personal shutdown files (if there\n",
    "    is one).\n",
    "7.  Quit the terminal.\n",
    "\n"
   ]
  }
 ],
 "metadata": {
  "kernelspec": {
   "display_name": "Bash",
   "language": "bash",
   "name": "bash"
  },
  "language_info": {
   "codemirror_mode": "shell",
   "file_extension": ".sh",
   "mimetype": "text/x-sh",
   "name": "bash"
  },
  "name": "Untitled2.ipynb"
 },
 "nbformat": 4,
 "nbformat_minor": 2
}
